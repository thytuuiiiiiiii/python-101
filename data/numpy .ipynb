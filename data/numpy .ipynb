{
 "cells": [
  {
   "cell_type": "code",
   "execution_count": 2,
   "metadata": {},
   "outputs": [],
   "source": [
    "import numpy as np"
   ]
  },
  {
   "cell_type": "code",
   "execution_count": 4,
   "metadata": {},
   "outputs": [],
   "source": [
    "np1 = np.array([1,2,3,4])\n",
    "\n",
    "np2 = np.array([5,6,7,8])\n",
    "\n"
   ]
  },
  {
   "cell_type": "code",
   "execution_count": 6,
   "metadata": {},
   "outputs": [
    {
     "name": "stdout",
     "output_type": "stream",
     "text": [
      "[1 2 3 4]\n",
      "[5 6 7 8]\n",
      "<class 'numpy.ndarray'> <class 'numpy.ndarray'>\n"
     ]
    }
   ],
   "source": [
    "print(np1)\n",
    "print(np2)\n",
    "print(type(np1),type(np2))"
   ]
  },
  {
   "cell_type": "code",
   "execution_count": 10,
   "metadata": {},
   "outputs": [
    {
     "name": "stdout",
     "output_type": "stream",
     "text": [
      "(2, 5)\n",
      "2\n",
      "10\n"
     ]
    }
   ],
   "source": [
    "listdata = [[1,2,3,4,5],\n",
    "        [6,7,8,9,10]]\n",
    "\n",
    "\n",
    "np8 = np.array(listdata)\n",
    "print(np8.shape)\n",
    "print(np8.ndim)\n",
    "print(np8.size)"
   ]
  },
  {
   "cell_type": "code",
   "execution_count": 12,
   "metadata": {},
   "outputs": [
    {
     "name": "stdout",
     "output_type": "stream",
     "text": [
      "[ 1  2  3  4  5  6  7  8  9 10 11 12 13 14 15 16 17 18 19 20]\n",
      "[[ 1  2  3  4  5]\n",
      " [ 6  7  8  9 10]\n",
      " [11 12 13 14 15]\n",
      " [16 17 18 19 20]]\n"
     ]
    }
   ],
   "source": [
    "np9 = np.arange(1,21)\n",
    "print(np9)\n",
    "\n",
    "np10 = np9.reshape(4,5)\n",
    "print(np10)"
   ]
  },
  {
   "cell_type": "code",
   "execution_count": 16,
   "metadata": {},
   "outputs": [
    {
     "name": "stdout",
     "output_type": "stream",
     "text": [
      "[[ 1. 87. 85. 82.]\n",
      " [ 2. 92. 87. 90.]\n",
      " [ 3. 80. 91. 87.]\n",
      " [ 4. 78. 82. 95.]\n",
      " [ 5. 88. 89. 90.]\n",
      " [ 6. 82. 87. 88.]\n",
      " [ 7. 90. 92. 82.]\n",
      " [ 8. 87. 80. 90.]\n",
      " [ 9. 95. 78. 87.]\n",
      " [10. 90. 88. 95.]\n",
      " [11. 88. 89. 75.]\n",
      " [12. 82. 91. 66.]\n",
      " [13. 90. 82. 87.]\n",
      " [14. 87. 89. 92.]\n",
      " [15. 95. 87. 80.]\n",
      " [16. 90. 92. 78.]\n",
      " [17. 82. 80. 88.]\n",
      " [18. 90. 78. 93.]\n",
      " [19. 67. 87. 95.]\n",
      " [20. 91. 82. 88.]\n",
      " [21. 82. 81. 82.]\n",
      " [22. 79. 87. 90.]\n",
      " [23. 87. 92. 87.]\n",
      " [24. 92. 82. 95.]\n",
      " [25. 80. 90. 78.]\n",
      " [26. 78. 76. 91.]\n",
      " [27. 66. 90. 82.]\n",
      " [28. 89. 77. 89.]\n",
      " [29. 87. 95. 87.]\n",
      " [30. 73. 90. 92.]]\n"
     ]
    }
   ],
   "source": [
    "np12 = np.genfromtxt('scores.csv', delimiter=',',skip_header=1)\n",
    "\n",
    "print(np12)"
   ]
  }
 ],
 "metadata": {
  "kernelspec": {
   "display_name": "base",
   "language": "python",
   "name": "python3"
  },
  "language_info": {
   "codemirror_mode": {
    "name": "ipython",
    "version": 3
   },
   "file_extension": ".py",
   "mimetype": "text/x-python",
   "name": "python",
   "nbconvert_exporter": "python",
   "pygments_lexer": "ipython3",
   "version": "3.11.7"
  }
 },
 "nbformat": 4,
 "nbformat_minor": 2
}

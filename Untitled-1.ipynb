{
 "cells": [
  {
   "cell_type": "code",
   "execution_count": 4,
   "metadata": {},
   "outputs": [
    {
     "name": "stdout",
     "output_type": "stream",
     "text": [
      "Requirement already satisfied: wget in c:\\users\\tku-staff\\anaconda3\\lib\\site-packages (3.2)\n",
      "Note: you may need to restart the kernel to use updated packages.\n"
     ]
    }
   ],
   "source": [
    "pip install wget"
   ]
  },
  {
   "cell_type": "code",
   "execution_count": 11,
   "metadata": {},
   "outputs": [
    {
     "data": {
      "text/plain": [
       "'scores (1).csv'"
      ]
     },
     "execution_count": 11,
     "metadata": {},
     "output_type": "execute_result"
    }
   ],
   "source": [
    "wget .download(\"\")https://github.com/tku-peiyucheng/python101/blob/main/scores.csv"
   ]
  },
  {
   "cell_type": "code",
   "execution_count": 14,
   "metadata": {},
   "outputs": [
    {
     "name": "stdout",
     "output_type": "stream",
     "text": [
      "Overwriting hi.py\n"
     ]
    }
   ],
   "source": [
    "%%writefile hi.py\n",
    "print(\"hi\")"
   ]
  },
  {
   "cell_type": "code",
   "execution_count": 5,
   "metadata": {},
   "outputs": [
    {
     "name": "stdout",
     "output_type": "stream",
     "text": [
      "(30, 4)\n"
     ]
    },
    {
     "data": {
      "text/plain": [
       "array([[ 1., 87., 85., 82.],\n",
       "       [ 2., 92., 87., 90.],\n",
       "       [ 3., 80., 91., 87.],\n",
       "       [ 4., 78., 82., 95.],\n",
       "       [ 5., 88., 89., 90.],\n",
       "       [ 6., 82., 87., 88.],\n",
       "       [ 7., 90., 92., 82.],\n",
       "       [ 8., 87., 80., 90.],\n",
       "       [ 9., 95., 78., 87.],\n",
       "       [10., 90., 88., 95.],\n",
       "       [11., 88., 89., 75.],\n",
       "       [12., 82., 91., 66.],\n",
       "       [13., 90., 82., 87.],\n",
       "       [14., 87., 89., 92.],\n",
       "       [15., 95., 87., 80.],\n",
       "       [16., 90., 92., 78.],\n",
       "       [17., 82., 80., 88.],\n",
       "       [18., 90., 78., 93.],\n",
       "       [19., 67., 87., 95.],\n",
       "       [20., 91., 82., 88.],\n",
       "       [21., 82., 81., 82.],\n",
       "       [22., 79., 87., 90.],\n",
       "       [23., 87., 92., 87.],\n",
       "       [24., 92., 82., 95.],\n",
       "       [25., 80., 90., 78.],\n",
       "       [26., 78., 76., 91.],\n",
       "       [27., 66., 90., 82.],\n",
       "       [28., 89., 77., 89.],\n",
       "       [29., 87., 95., 87.],\n",
       "       [30., 73., 90., 92.]])"
      ]
     },
     "execution_count": 5,
     "metadata": {},
     "output_type": "execute_result"
    }
   ],
   "source": [
    "import numpy as np\n",
    "\n",
    "na = np.genfromtxt('scores.csv',delimiter=',', skip_header= 1)\n",
    "print(na.shape)\n",
    "\n",
    "na"
   ]
  },
  {
   "cell_type": "code",
   "execution_count": 6,
   "metadata": {},
   "outputs": [
    {
     "name": "stdout",
     "output_type": "stream",
     "text": [
      "Note: you may need to restart the kernel to use updated packages.\n"
     ]
    },
    {
     "name": "stderr",
     "output_type": "stream",
     "text": [
      "ERROR: Could not find a version that satisfies the requirement mathplotlib (from versions: none)\n",
      "ERROR: No matching distribution found for mathplotlib\n"
     ]
    }
   ],
   "source": [
    "pip install mathplotlib"
   ]
  }
 ],
 "metadata": {
  "kernelspec": {
   "display_name": "Python 3",
   "language": "python",
   "name": "python3"
  },
  "language_info": {
   "codemirror_mode": {
    "name": "ipython",
    "version": 3
   },
   "file_extension": ".py",
   "mimetype": "text/x-python",
   "name": "python",
   "nbconvert_exporter": "python",
   "pygments_lexer": "ipython3",
   "version": "3.11.7"
  }
 },
 "nbformat": 4,
 "nbformat_minor": 2
}
